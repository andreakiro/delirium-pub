{
 "cells": [
  {
   "cell_type": "code",
   "execution_count": 11,
   "metadata": {},
   "outputs": [],
   "source": [
    "import pandas as pd\n",
    "from xgboost import XGBClassifier\n",
    "from sklearn.linear_model import RidgeClassifier\n",
    "from sklearn.calibration import CalibratedClassifierCV\n",
    "from sklearn.model_selection import StratifiedKFold, cross_val_score, GridSearchCV\n",
    "from sklearn.metrics import accuracy_score, roc_auc_score\n",
    "from sklearn.metrics import confusion_matrix\n",
    "from sklearn.metrics import roc_curve, auc\n",
    "import numpy as np"
   ]
  },
  {
   "cell_type": "code",
   "execution_count": 2,
   "metadata": {},
   "outputs": [],
   "source": [
    "dft = pd.read_csv('dataset/top12-no-outliers.csv') # base top12 - test set\n",
    "dfn = pd.read_csv('dataset/noisy.csv') # noisy padding\n",
    "dfv = pd.read_csv('dataset/vae.csv') # vae samples\n",
    "dfa = pd.concat([dfn, dfv])"
   ]
  },
  {
   "cell_type": "code",
   "execution_count": 3,
   "metadata": {},
   "outputs": [
    {
     "name": "stdout",
     "output_type": "stream",
     "text": [
      "len(dft): 51 | len(dfn): 49 | len(dfc): 900\n"
     ]
    }
   ],
   "source": [
    "print(f\"len(dft): {len(dft)} | len(dfn): {len(dfn)} | len(dfc): {len(dfv)}\")"
   ]
  },
  {
   "cell_type": "code",
   "execution_count": 4,
   "metadata": {},
   "outputs": [],
   "source": [
    "Xv, yv = dfv.drop(['y'], axis=1), dfv['y']\n",
    "Xt, yt = dft.drop(['y'], axis=1), dft['y']"
   ]
  },
  {
   "cell_type": "code",
   "execution_count": 17,
   "metadata": {},
   "outputs": [],
   "source": [
    "def evaluate_model(y_true, y_pred, y_pred_proba):\n",
    "    fpr, tpr, thresholds = roc_curve(y_true, y_pred_proba)\n",
    "    roc_auc = auc(fpr, tpr)\n",
    "    optimal_idx = np.argmax(tpr - fpr)\n",
    "    accuracy = accuracy_score(y_true, y_pred)\n",
    "    sensitivity = tpr[optimal_idx]\n",
    "    specificity = 1 - fpr[optimal_idx]\n",
    "    tn, fp, fn, tp = confusion_matrix(y_true, y_pred).ravel()\n",
    "    ppv = tp / (tp + fp) if (tp + fp) > 0 else 0\n",
    "    npv = tn / (tn + fn) if (tn + fn) > 0 else 0\n",
    "    print(f\"Accuracy: {accuracy:.3f} | AUC: {roc_auc:.3f}\")\n",
    "    print(f\"Sensitivity: {sensitivity:.3f} | Specificity: {specificity:.3f}\")\n",
    "    print(f\"PPV: {ppv:.3f} | NPV: {npv:.3f}\")\n",
    "    return {\n",
    "        'accuracy': accuracy,\n",
    "        'auc': roc_auc,\n",
    "        'sensitivity': sensitivity,\n",
    "        'specificity': specificity,\n",
    "        'ppv': ppv,\n",
    "        'npv': npv\n",
    "    }"
   ]
  },
  {
   "cell_type": "markdown",
   "metadata": {},
   "source": [
    "# simple xgboost on vae"
   ]
  },
  {
   "cell_type": "code",
   "execution_count": 18,
   "metadata": {},
   "outputs": [
    {
     "name": "stdout",
     "output_type": "stream",
     "text": [
      "Best Parameters: {'colsample_bytree': 0.8, 'learning_rate': 0.2, 'max_depth': 5, 'n_estimators': 100, 'subsample': 0.8}\n",
      "Best neglog: -0.07561033635115884\n",
      "Accuracy: 0.902 | AUC: 0.965\n",
      "Sensitivity: 0.938 | Specificity: 0.947\n",
      "PPV: 0.909 | NPV: 0.889\n"
     ]
    }
   ],
   "source": [
    "model = XGBClassifier()\n",
    "kf = StratifiedKFold(n_splits=5, shuffle=True, random_state=42)\n",
    "param_grid = {\n",
    "    'n_estimators': [50, 100],\n",
    "    'max_depth': [3, 5, 7],\n",
    "    'learning_rate': [0.01, 0.1, 0.2],\n",
    "    'subsample': [0.8, 1.0],\n",
    "    'colsample_bytree': [0.8, 1.0]\n",
    "}\n",
    "grid_search = GridSearchCV(model, param_grid, cv=kf, scoring='neg_log_loss', n_jobs=-1)\n",
    "grid_search.fit(Xv, yv)\n",
    "best_params = grid_search.best_params_\n",
    "best_score = grid_search.best_score_\n",
    "print(\"Best Parameters:\", best_params)\n",
    "print(\"Best neglog:\", best_score)\n",
    "\n",
    "# Use best model for predictions\n",
    "model = grid_search.best_estimator_\n",
    "yhat = model.predict(Xt)\n",
    "yhat_proba = model.predict_proba(Xt)[:, 1]\n",
    "\n",
    "# Evaluate model\n",
    "_ = evaluate_model(yt, yhat, yhat_proba)"
   ]
  },
  {
   "cell_type": "markdown",
   "metadata": {},
   "source": [
    "# explain the variables with SHAP"
   ]
  },
  {
   "cell_type": "code",
   "execution_count": 19,
   "metadata": {},
   "outputs": [
    {
     "name": "stdout",
     "output_type": "stream",
     "text": [
      "x9: 0.16967135667800903\n",
      "x2: 0.16302049160003662\n",
      "x10: 0.14878512918949127\n",
      "x1: 0.10011464357376099\n",
      "x12: 0.07415478676557541\n",
      "x6: 0.05694553256034851\n",
      "x11: 0.05518687516450882\n",
      "x7: 0.05103380233049393\n",
      "x5: 0.0483788400888443\n",
      "x4: 0.04835554584860802\n",
      "x8: 0.043165963143110275\n",
      "x3: 0.04118698462843895\n"
     ]
    }
   ],
   "source": [
    "model = grid_search.best_estimator_\n",
    "importances = model.feature_importances_\n",
    "feature_importance = sorted(zip(importances, Xv.columns), reverse=True)\n",
    "for importance, feature in feature_importance:\n",
    "    print(f\"{feature}: {importance}\")"
   ]
  },
  {
   "cell_type": "code",
   "execution_count": 20,
   "metadata": {},
   "outputs": [
    {
     "name": "stdout",
     "output_type": "stream",
     "text": [
      "Approximate equation:\n",
      "y = 0.0409 + 0.9070 * x1 + 1.5330 * x2 + 0.3056 * x3 + 0.4342 * x4 + 0.3710 * x5 + 0.2661 * x6 + 0.3811 * x7 + 0.2945 * x8 + 1.4589 * x9 + 1.0202 * x10 + 0.5447 * x11 + 0.9328 * x12\n"
     ]
    }
   ],
   "source": [
    "import shap\n",
    "explainer = shap.TreeExplainer(model)\n",
    "shap_values = explainer.shap_values(Xv)\n",
    "mean_shap = np.abs(shap_values).mean(axis=0)\n",
    "base_value = explainer.expected_value\n",
    "equation = f\"y = {base_value:.4f}\"\n",
    "for i, col in enumerate(Xv.columns):\n",
    "    equation += f\" + {mean_shap[i]:.4f} * {col}\"\n",
    "print(\"Approximate equation:\")\n",
    "print(equation)"
   ]
  },
  {
   "cell_type": "markdown",
   "metadata": {},
   "source": [
    "# easy ridge regression"
   ]
  },
  {
   "cell_type": "code",
   "execution_count": 24,
   "metadata": {},
   "outputs": [
    {
     "name": "stdout",
     "output_type": "stream",
     "text": [
      "Best Parameters: {'alpha': np.float64(1e-10), 'fit_intercept': False, 'solver': 'auto'}\n",
      "Best accuracy: 0.8477777777777777\n",
      "Accuracy: 0.784 | AUC: 0.854\n",
      "Sensitivity: 0.781 | Specificity: 0.895\n",
      "PPV: 0.920 | NPV: 0.654\n"
     ]
    }
   ],
   "source": [
    "model = RidgeClassifier()\n",
    "kf = StratifiedKFold(n_splits=5, shuffle=True, random_state=42)\n",
    "alphas = np.logspace(-10, 1, num=25)  # 25 values from 1e-6 to 1e6\n",
    "param_grid = {\n",
    "    'alpha': alphas,\n",
    "    'fit_intercept': [True, False],\n",
    "    'solver': ['auto', 'svd', 'cholesky', 'lsqr', 'sparse_cg', 'sag', 'saga'],\n",
    "}\n",
    "grid_search = GridSearchCV(model, param_grid, cv=kf, scoring='accuracy', n_jobs=-1)\n",
    "grid_search.fit(Xv, yv)\n",
    "best_params = grid_search.best_params_\n",
    "best_score = grid_search.best_score_\n",
    "print(\"Best Parameters:\", best_params)\n",
    "print(\"Best accuracy:\", best_score)\n",
    "\n",
    "# Use best model for predictions\n",
    "best_model = grid_search.best_estimator_\n",
    "\n",
    "# Calibrate the classifier to get probability estimates\n",
    "calibrated_model = CalibratedClassifierCV(best_model, cv='prefit')\n",
    "calibrated_model.fit(Xv, yv)\n",
    "\n",
    "yhat = calibrated_model.predict(Xt)\n",
    "yhat_score = calibrated_model.predict_proba(Xt)[:, 1]\n",
    "\n",
    "# Evaluate model\n",
    "_  = evaluate_model(yt, yhat, yhat_score)"
   ]
  },
  {
   "cell_type": "code",
   "execution_count": null,
   "metadata": {},
   "outputs": [],
   "source": []
  },
  {
   "cell_type": "code",
   "execution_count": null,
   "metadata": {},
   "outputs": [],
   "source": []
  }
 ],
 "metadata": {
  "kernelspec": {
   "display_name": "tristan-jkhu",
   "language": "python",
   "name": "python3"
  },
  "language_info": {
   "codemirror_mode": {
    "name": "ipython",
    "version": 3
   },
   "file_extension": ".py",
   "mimetype": "text/x-python",
   "name": "python",
   "nbconvert_exporter": "python",
   "pygments_lexer": "ipython3",
   "version": "3.10.14"
  }
 },
 "nbformat": 4,
 "nbformat_minor": 2
}
