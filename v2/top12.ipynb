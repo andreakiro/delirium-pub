{
 "cells": [
  {
   "cell_type": "code",
   "execution_count": 1,
   "metadata": {},
   "outputs": [],
   "source": [
    "import pandas as pd"
   ]
  },
  {
   "cell_type": "code",
   "execution_count": 2,
   "metadata": {},
   "outputs": [],
   "source": [
    "df = pd.read_csv('../dataset/delirium/combined.csv')"
   ]
  },
  {
   "cell_type": "code",
   "execution_count": 3,
   "metadata": {},
   "outputs": [],
   "source": [
    "selected_features = [\n",
    "    'CAM-ICU positive',\n",
    "    'CXC13L',\n",
    "    'EOTL',\n",
    "    'GROAL',\n",
    "    'HGFL',\n",
    "    'IL1AL',\n",
    "    'IL21L',\n",
    "    'IL22L',\n",
    "    'VEGFAL',\n",
    "    'CD3_pos_HLA_DR_pos',\n",
    "    'CD3_pos_CD4_pos_CD45RA_neg_CXCR3_pos',\n",
    "    'CD3_pos_CD4_pos_CXCR5_pos_PD1_pos_ICOS_pos_CXCR3_neg',\n",
    "    'CD3_neg_CD19_pos_CD21_low_CD38_low',\n",
    "    'CD3_neg_CD19_pos_CD27_pos_IgD_pos_IgM_pos'\n",
    "]\n",
    "\n",
    "df = df[selected_features]\n",
    "missing_features = set(selected_features) - set(df.columns)\n",
    "if missing_features:\n",
    "    print(f\"Warning: The following selected features are not in the DataFrame: {missing_features}\")"
   ]
  },
  {
   "cell_type": "code",
   "execution_count": 4,
   "metadata": {},
   "outputs": [],
   "source": [
    "df = df.drop(df.columns[-1], axis=1)\n",
    "df.columns = ['y'] + ['x' + str(i) for i in range(1, len(df.columns))]\n",
    "df['y'] = df['y'].map({'No Delirium': 0, 'Delirium': 1, 'No_Delirium': 0})"
   ]
  },
  {
   "cell_type": "code",
   "execution_count": 5,
   "metadata": {},
   "outputs": [],
   "source": [
    "import json\n",
    "feature_mapping = {f'x{i+1}': feature for i, feature in enumerate(selected_features[1:])}\n",
    "with open('dataset/features.json', 'w') as f:\n",
    "    json.dump(feature_mapping, f, indent=4)"
   ]
  },
  {
   "cell_type": "code",
   "execution_count": 6,
   "metadata": {},
   "outputs": [],
   "source": [
    "output_file = 'dataset/top12.csv'\n",
    "df.to_csv(output_file, index=False)"
   ]
  },
  {
   "cell_type": "code",
   "execution_count": null,
   "metadata": {},
   "outputs": [],
   "source": []
  }
 ],
 "metadata": {
  "kernelspec": {
   "display_name": "tristan-jkhu",
   "language": "python",
   "name": "python3"
  },
  "language_info": {
   "codemirror_mode": {
    "name": "ipython",
    "version": 3
   },
   "file_extension": ".py",
   "mimetype": "text/x-python",
   "name": "python",
   "nbconvert_exporter": "python",
   "pygments_lexer": "ipython3",
   "version": "3.10.14"
  }
 },
 "nbformat": 4,
 "nbformat_minor": 2
}
