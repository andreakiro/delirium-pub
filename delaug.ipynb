{
 "cells": [
  {
   "cell_type": "code",
   "execution_count": 1,
   "metadata": {},
   "outputs": [],
   "source": [
    "import numpy as np\n",
    "import pandas as pd"
   ]
  },
  {
   "cell_type": "code",
   "execution_count": 2,
   "metadata": {},
   "outputs": [],
   "source": [
    "from sklearn.preprocessing import StandardScaler\n",
    "from sklearn.linear_model import RidgeClassifier\n",
    "from sklearn.model_selection import KFold, cross_val_score"
   ]
  },
  {
   "cell_type": "code",
   "execution_count": 3,
   "metadata": {},
   "outputs": [],
   "source": [
    "import matplotlib.pyplot as plt\n",
    "import seaborn as sns\n",
    "from sklearn.ensemble import IsolationForest"
   ]
  },
  {
   "cell_type": "code",
   "execution_count": 4,
   "metadata": {},
   "outputs": [
    {
     "data": {
      "text/html": [
       "<div>\n",
       "<style scoped>\n",
       "    .dataframe tbody tr th:only-of-type {\n",
       "        vertical-align: middle;\n",
       "    }\n",
       "\n",
       "    .dataframe tbody tr th {\n",
       "        vertical-align: top;\n",
       "    }\n",
       "\n",
       "    .dataframe thead th {\n",
       "        text-align: right;\n",
       "    }\n",
       "</style>\n",
       "<table border=\"1\" class=\"dataframe\">\n",
       "  <thead>\n",
       "    <tr style=\"text-align: right;\">\n",
       "      <th></th>\n",
       "      <th>y</th>\n",
       "      <th>x1</th>\n",
       "      <th>x2</th>\n",
       "      <th>x3</th>\n",
       "      <th>x4</th>\n",
       "      <th>x5</th>\n",
       "    </tr>\n",
       "  </thead>\n",
       "  <tbody>\n",
       "    <tr>\n",
       "      <th>0</th>\n",
       "      <td>0</td>\n",
       "      <td>-0.042449</td>\n",
       "      <td>0.347235</td>\n",
       "      <td>0.208634</td>\n",
       "      <td>-0.521956</td>\n",
       "      <td>0.865522</td>\n",
       "    </tr>\n",
       "    <tr>\n",
       "      <th>1</th>\n",
       "      <td>0</td>\n",
       "      <td>-2.051863</td>\n",
       "      <td>0.227998</td>\n",
       "      <td>-0.879599</td>\n",
       "      <td>-0.805739</td>\n",
       "      <td>0.590122</td>\n",
       "    </tr>\n",
       "    <tr>\n",
       "      <th>2</th>\n",
       "      <td>0</td>\n",
       "      <td>-1.457464</td>\n",
       "      <td>-0.496188</td>\n",
       "      <td>-0.204515</td>\n",
       "      <td>-1.378020</td>\n",
       "      <td>-0.383293</td>\n",
       "    </tr>\n",
       "    <tr>\n",
       "      <th>3</th>\n",
       "      <td>0</td>\n",
       "      <td>-1.068735</td>\n",
       "      <td>-0.567190</td>\n",
       "      <td>-0.527095</td>\n",
       "      <td>-0.401944</td>\n",
       "      <td>-0.370642</td>\n",
       "    </tr>\n",
       "    <tr>\n",
       "      <th>4</th>\n",
       "      <td>0</td>\n",
       "      <td>-1.084182</td>\n",
       "      <td>0.550284</td>\n",
       "      <td>0.914777</td>\n",
       "      <td>1.629266</td>\n",
       "      <td>-0.945712</td>\n",
       "    </tr>\n",
       "  </tbody>\n",
       "</table>\n",
       "</div>"
      ],
      "text/plain": [
       "   y        x1        x2        x3        x4        x5\n",
       "0  0 -0.042449  0.347235  0.208634 -0.521956  0.865522\n",
       "1  0 -2.051863  0.227998 -0.879599 -0.805739  0.590122\n",
       "2  0 -1.457464 -0.496188 -0.204515 -1.378020 -0.383293\n",
       "3  0 -1.068735 -0.567190 -0.527095 -0.401944 -0.370642\n",
       "4  0 -1.084182  0.550284  0.914777  1.629266 -0.945712"
      ]
     },
     "execution_count": 4,
     "metadata": {},
     "output_type": "execute_result"
    }
   ],
   "source": [
    "dfn = pd.read_csv('dataset/delirium/noisy2.csv')\n",
    "dfc = pd.read_csv('dataset/delirium/augmented.csv')\n",
    "df = pd.concat([dfn, dfc], axis=0)\n",
    "df.head()"
   ]
  },
  {
   "cell_type": "code",
   "execution_count": 5,
   "metadata": {},
   "outputs": [],
   "source": [
    "from sklearn.model_selection import StratifiedKFold, KFold, cross_val_score\n",
    "from sklearn.model_selection import StratifiedKFold, cross_val_score, GridSearchCV\n",
    "from xgboost import XGBClassifier\n",
    "from sklearn.metrics import accuracy_score, roc_auc_score\n",
    "import numpy as np\n",
    "from tqdm import tqdm"
   ]
  },
  {
   "cell_type": "code",
   "execution_count": 6,
   "metadata": {},
   "outputs": [],
   "source": [
    "X = df.drop(['y'], axis=1)\n",
    "y = df['y']"
   ]
  },
  {
   "cell_type": "code",
   "execution_count": 7,
   "metadata": {},
   "outputs": [
    {
     "name": "stdout",
     "output_type": "stream",
     "text": [
      "Best Parameters: {'colsample_bytree': 1.0, 'learning_rate': 0.2, 'max_depth': 5, 'n_estimators': 50, 'subsample': 0.8}\n",
      "Best neglog: -0.12481892189659269\n"
     ]
    }
   ],
   "source": [
    "# XGBoost Classifier\n",
    "model = XGBClassifier()\n",
    "\n",
    "# Stratified K-Fold Cross-Validation\n",
    "kf = StratifiedKFold(n_splits=5, shuffle=True, random_state=42)\n",
    "\n",
    "# Hyperparameter grid\n",
    "param_grid = {\n",
    "    'n_estimators': [50, 100],\n",
    "    'max_depth': [3, 5, 7],\n",
    "    'learning_rate': [0.01, 0.1, 0.2],\n",
    "    'subsample': [0.8, 1.0],\n",
    "    'colsample_bytree': [0.8, 1.0]\n",
    "}\n",
    "\n",
    "# Grid search with cross-validation\n",
    "grid_search = GridSearchCV(model, param_grid, cv=kf, scoring='neg_log_loss', n_jobs=-1)\n",
    "grid_search.fit(X, y)\n",
    "\n",
    "# Best parameters and score\n",
    "best_params = grid_search.best_params_\n",
    "best_score = grid_search.best_score_\n",
    "\n",
    "print(\"Best Parameters:\", best_params)\n",
    "print(\"Best neglog:\", best_score)"
   ]
  },
  {
   "cell_type": "code",
   "execution_count": 8,
   "metadata": {},
   "outputs": [],
   "source": [
    "model = grid_search.best_estimator_"
   ]
  },
  {
   "cell_type": "code",
   "execution_count": 9,
   "metadata": {},
   "outputs": [],
   "source": [
    "predictions = model.predict(X)\n",
    "pred_proba = model.predict_proba(X)[:, 1]"
   ]
  },
  {
   "cell_type": "code",
   "execution_count": 10,
   "metadata": {},
   "outputs": [],
   "source": [
    "def scale(df):\n",
    "    scaler = StandardScaler().fit(df.drop('y', axis=1))\n",
    "    scaled_data = scaler.transform(df.drop('y', axis=1))\n",
    "    scaled_df = pd.DataFrame(scaled_data, columns=df.columns[1:])\n",
    "    scaled_df.insert(0, 'y', df['y'])\n",
    "    return scaled_df"
   ]
  },
  {
   "cell_type": "code",
   "execution_count": 11,
   "metadata": {},
   "outputs": [
    {
     "data": {
      "text/html": [
       "<div>\n",
       "<style scoped>\n",
       "    .dataframe tbody tr th:only-of-type {\n",
       "        vertical-align: middle;\n",
       "    }\n",
       "\n",
       "    .dataframe tbody tr th {\n",
       "        vertical-align: top;\n",
       "    }\n",
       "\n",
       "    .dataframe thead th {\n",
       "        text-align: right;\n",
       "    }\n",
       "</style>\n",
       "<table border=\"1\" class=\"dataframe\">\n",
       "  <thead>\n",
       "    <tr style=\"text-align: right;\">\n",
       "      <th></th>\n",
       "      <th>CAM-ICU positive</th>\n",
       "      <th>CXC13L</th>\n",
       "      <th>EOTL</th>\n",
       "      <th>HGFL</th>\n",
       "      <th>VEGFAL</th>\n",
       "      <th>CD3_neg_CD19_pos_CD27_pos_IgD_pos_IgM_pos</th>\n",
       "    </tr>\n",
       "  </thead>\n",
       "  <tbody>\n",
       "    <tr>\n",
       "      <th>0</th>\n",
       "      <td>No Delirium</td>\n",
       "      <td>159</td>\n",
       "      <td>65</td>\n",
       "      <td>1291</td>\n",
       "      <td>731</td>\n",
       "      <td>12.0</td>\n",
       "    </tr>\n",
       "    <tr>\n",
       "      <th>1</th>\n",
       "      <td>No Delirium</td>\n",
       "      <td>25</td>\n",
       "      <td>42</td>\n",
       "      <td>300</td>\n",
       "      <td>347</td>\n",
       "      <td>9.8</td>\n",
       "    </tr>\n",
       "    <tr>\n",
       "      <th>2</th>\n",
       "      <td>No Delirium</td>\n",
       "      <td>113</td>\n",
       "      <td>23</td>\n",
       "      <td>746</td>\n",
       "      <td>256</td>\n",
       "      <td>6.6</td>\n",
       "    </tr>\n",
       "    <tr>\n",
       "      <th>3</th>\n",
       "      <td>No Delirium</td>\n",
       "      <td>33</td>\n",
       "      <td>34</td>\n",
       "      <td>760</td>\n",
       "      <td>579</td>\n",
       "      <td>4.2</td>\n",
       "    </tr>\n",
       "    <tr>\n",
       "      <th>4</th>\n",
       "      <td>No Delirium</td>\n",
       "      <td>215</td>\n",
       "      <td>57</td>\n",
       "      <td>1518</td>\n",
       "      <td>2376</td>\n",
       "      <td>2.5</td>\n",
       "    </tr>\n",
       "  </tbody>\n",
       "</table>\n",
       "</div>"
      ],
      "text/plain": [
       "  CAM-ICU positive  CXC13L  EOTL  HGFL  VEGFAL  \\\n",
       "0      No Delirium     159    65  1291     731   \n",
       "1      No Delirium      25    42   300     347   \n",
       "2      No Delirium     113    23   746     256   \n",
       "3      No Delirium      33    34   760     579   \n",
       "4      No Delirium     215    57  1518    2376   \n",
       "\n",
       "   CD3_neg_CD19_pos_CD27_pos_IgD_pos_IgM_pos  \n",
       "0                                       12.0  \n",
       "1                                        9.8  \n",
       "2                                        6.6  \n",
       "3                                        4.2  \n",
       "4                                        2.5  "
      ]
     },
     "execution_count": 11,
     "metadata": {},
     "output_type": "execute_result"
    }
   ],
   "source": [
    "dft = pd.read_csv('dataset/delirium/top5.csv')\n",
    "dft = dft.drop(dft.columns[-1], axis=1)\n",
    "dft.head()"
   ]
  },
  {
   "cell_type": "code",
   "execution_count": 12,
   "metadata": {},
   "outputs": [
    {
     "data": {
      "text/html": [
       "<div>\n",
       "<style scoped>\n",
       "    .dataframe tbody tr th:only-of-type {\n",
       "        vertical-align: middle;\n",
       "    }\n",
       "\n",
       "    .dataframe tbody tr th {\n",
       "        vertical-align: top;\n",
       "    }\n",
       "\n",
       "    .dataframe thead th {\n",
       "        text-align: right;\n",
       "    }\n",
       "</style>\n",
       "<table border=\"1\" class=\"dataframe\">\n",
       "  <thead>\n",
       "    <tr style=\"text-align: right;\">\n",
       "      <th></th>\n",
       "      <th>y</th>\n",
       "      <th>x1</th>\n",
       "      <th>x2</th>\n",
       "      <th>x3</th>\n",
       "      <th>x4</th>\n",
       "      <th>x5</th>\n",
       "    </tr>\n",
       "  </thead>\n",
       "  <tbody>\n",
       "    <tr>\n",
       "      <th>0</th>\n",
       "      <td>0</td>\n",
       "      <td>159</td>\n",
       "      <td>65</td>\n",
       "      <td>1291</td>\n",
       "      <td>731</td>\n",
       "      <td>12.0</td>\n",
       "    </tr>\n",
       "    <tr>\n",
       "      <th>1</th>\n",
       "      <td>0</td>\n",
       "      <td>25</td>\n",
       "      <td>42</td>\n",
       "      <td>300</td>\n",
       "      <td>347</td>\n",
       "      <td>9.8</td>\n",
       "    </tr>\n",
       "    <tr>\n",
       "      <th>2</th>\n",
       "      <td>0</td>\n",
       "      <td>113</td>\n",
       "      <td>23</td>\n",
       "      <td>746</td>\n",
       "      <td>256</td>\n",
       "      <td>6.6</td>\n",
       "    </tr>\n",
       "    <tr>\n",
       "      <th>3</th>\n",
       "      <td>0</td>\n",
       "      <td>33</td>\n",
       "      <td>34</td>\n",
       "      <td>760</td>\n",
       "      <td>579</td>\n",
       "      <td>4.2</td>\n",
       "    </tr>\n",
       "    <tr>\n",
       "      <th>4</th>\n",
       "      <td>0</td>\n",
       "      <td>215</td>\n",
       "      <td>57</td>\n",
       "      <td>1518</td>\n",
       "      <td>2376</td>\n",
       "      <td>2.5</td>\n",
       "    </tr>\n",
       "  </tbody>\n",
       "</table>\n",
       "</div>"
      ],
      "text/plain": [
       "   y   x1  x2    x3    x4    x5\n",
       "0  0  159  65  1291   731  12.0\n",
       "1  0   25  42   300   347   9.8\n",
       "2  0  113  23   746   256   6.6\n",
       "3  0   33  34   760   579   4.2\n",
       "4  0  215  57  1518  2376   2.5"
      ]
     },
     "execution_count": 12,
     "metadata": {},
     "output_type": "execute_result"
    }
   ],
   "source": [
    "dft.columns = ['y'] + ['x' + str(i) for i in range(1, len(dft.columns))]\n",
    "dft['y'] = dft['y'].map({'No Delirium': 0, 'Delirium': 1, 'No_Delirium': 0})\n",
    "dft.head()"
   ]
  },
  {
   "cell_type": "code",
   "execution_count": 13,
   "metadata": {},
   "outputs": [
    {
     "data": {
      "text/html": [
       "<div>\n",
       "<style scoped>\n",
       "    .dataframe tbody tr th:only-of-type {\n",
       "        vertical-align: middle;\n",
       "    }\n",
       "\n",
       "    .dataframe tbody tr th {\n",
       "        vertical-align: top;\n",
       "    }\n",
       "\n",
       "    .dataframe thead th {\n",
       "        text-align: right;\n",
       "    }\n",
       "</style>\n",
       "<table border=\"1\" class=\"dataframe\">\n",
       "  <thead>\n",
       "    <tr style=\"text-align: right;\">\n",
       "      <th></th>\n",
       "      <th>y</th>\n",
       "      <th>x1</th>\n",
       "      <th>x2</th>\n",
       "      <th>x3</th>\n",
       "      <th>x4</th>\n",
       "      <th>x5</th>\n",
       "    </tr>\n",
       "  </thead>\n",
       "  <tbody>\n",
       "    <tr>\n",
       "      <th>0</th>\n",
       "      <td>0</td>\n",
       "      <td>-0.681270</td>\n",
       "      <td>0.773231</td>\n",
       "      <td>0.167699</td>\n",
       "      <td>-0.304673</td>\n",
       "      <td>0.813831</td>\n",
       "    </tr>\n",
       "    <tr>\n",
       "      <th>1</th>\n",
       "      <td>0</td>\n",
       "      <td>-1.354814</td>\n",
       "      <td>-0.195844</td>\n",
       "      <td>-0.799771</td>\n",
       "      <td>-0.750116</td>\n",
       "      <td>0.486314</td>\n",
       "    </tr>\n",
       "    <tr>\n",
       "      <th>2</th>\n",
       "      <td>0</td>\n",
       "      <td>-0.912487</td>\n",
       "      <td>-0.996383</td>\n",
       "      <td>-0.364361</td>\n",
       "      <td>-0.855676</td>\n",
       "      <td>0.009925</td>\n",
       "    </tr>\n",
       "    <tr>\n",
       "      <th>3</th>\n",
       "      <td>0</td>\n",
       "      <td>-1.314603</td>\n",
       "      <td>-0.532913</td>\n",
       "      <td>-0.350693</td>\n",
       "      <td>-0.480994</td>\n",
       "      <td>-0.347367</td>\n",
       "    </tr>\n",
       "    <tr>\n",
       "      <th>4</th>\n",
       "      <td>0</td>\n",
       "      <td>-0.399789</td>\n",
       "      <td>0.436162</td>\n",
       "      <td>0.389310</td>\n",
       "      <td>1.603536</td>\n",
       "      <td>-0.600449</td>\n",
       "    </tr>\n",
       "  </tbody>\n",
       "</table>\n",
       "</div>"
      ],
      "text/plain": [
       "   y        x1        x2        x3        x4        x5\n",
       "0  0 -0.681270  0.773231  0.167699 -0.304673  0.813831\n",
       "1  0 -1.354814 -0.195844 -0.799771 -0.750116  0.486314\n",
       "2  0 -0.912487 -0.996383 -0.364361 -0.855676  0.009925\n",
       "3  0 -1.314603 -0.532913 -0.350693 -0.480994 -0.347367\n",
       "4  0 -0.399789  0.436162  0.389310  1.603536 -0.600449"
      ]
     },
     "execution_count": 13,
     "metadata": {},
     "output_type": "execute_result"
    }
   ],
   "source": [
    "dft = scale(dft)\n",
    "dft.head()"
   ]
  },
  {
   "cell_type": "code",
   "execution_count": 14,
   "metadata": {},
   "outputs": [],
   "source": [
    "Xt = dft.drop('y', axis=1).values\n",
    "yt = dft['y'].values"
   ]
  },
  {
   "cell_type": "code",
   "execution_count": 15,
   "metadata": {},
   "outputs": [],
   "source": [
    "yhat = model.predict(Xt)\n",
    "yhat_proba = model.predict_proba(Xt)[:, 1]"
   ]
  },
  {
   "cell_type": "code",
   "execution_count": 16,
   "metadata": {},
   "outputs": [
    {
     "name": "stdout",
     "output_type": "stream",
     "text": [
      "Accuracy: 0.9259259259259259\n",
      "AUC: 0.9102941176470588\n"
     ]
    }
   ],
   "source": [
    "accuracy = accuracy_score(yt, yhat)\n",
    "auc = roc_auc_score(yt, yhat)\n",
    "print(\"Accuracy:\", accuracy)\n",
    "print(\"AUC:\", auc)"
   ]
  },
  {
   "cell_type": "code",
   "execution_count": 17,
   "metadata": {},
   "outputs": [
    {
     "data": {
      "text/plain": [
       "array([0, 0, 0, 0, 1, 1, 0, 0, 0, 0, 0, 1, 0, 0, 0, 0, 0, 0, 0, 0, 1, 1,\n",
       "       1, 1, 1, 1, 0, 1, 1, 1, 1, 1, 1, 1, 1, 1, 1, 1, 1, 1, 1, 1, 1, 1,\n",
       "       1, 1, 1, 1, 1, 1, 1, 1, 1, 1])"
      ]
     },
     "execution_count": 17,
     "metadata": {},
     "output_type": "execute_result"
    }
   ],
   "source": [
    "yhat"
   ]
  },
  {
   "cell_type": "code",
   "execution_count": 18,
   "metadata": {},
   "outputs": [
    {
     "data": {
      "image/png": "[encoded data removed]",
      "text/plain": [
       "<Figure size 640x480 with 1 Axes>"
      ]
     },
     "metadata": {},
     "output_type": "display_data"
    }
   ],
   "source": [
    "from sklearn.metrics import roc_curve, auc\n",
    "\n",
    "# Generate ROC curve\n",
    "fpr, tpr, thresholds = roc_curve(yt, yhat_proba)\n",
    "roc_auc = auc(fpr, tpr)\n",
    "\n",
    "# Plotting\n",
    "plt.figure()\n",
    "plt.plot(fpr, tpr, color='darkorange', lw=2, label='ROC curve (area = %0.2f)' % roc_auc)\n",
    "plt.plot([0, 1], [0, 1], color='navy', lw=2, linestyle='--')\n",
    "plt.xlim([0.0, 1.0])\n",
    "plt.ylim([0.0, 1.05])\n",
    "plt.xlabel('1 - Specificity (False Positive Rate)')\n",
    "plt.ylabel('Sensitivity (True Positive Rate)')\n",
    "plt.title('Receiver Operating Characteristic')\n",
    "plt.legend(loc=\"lower right\")\n",
    "plt.show()"
   ]
  },
  {
   "cell_type": "code",
   "execution_count": 34,
   "metadata": {},
   "outputs": [],
   "source": [
    "# Find optimal threshold\n",
    "j_scores = tpr - fpr\n",
    "j_ordered = sorted(zip(j_scores, thresholds))\n",
    "best_threshold = j_ordered[-1][1]\n",
    "\n",
    "# Calculate sensitivity and specificity\n",
    "optimal_idx = np.argmax(j_scores)\n",
    "optimal_threshold = thresholds[optimal_idx]\n",
    "sensitivity = tpr[optimal_idx]\n",
    "specificity = 1 - fpr[optimal_idx]"
   ]
  },
  {
   "cell_type": "code",
   "execution_count": 35,
   "metadata": {},
   "outputs": [
    {
     "data": {
      "text/plain": [
       "np.float64(0.9705882352941176)"
      ]
     },
     "execution_count": 35,
     "metadata": {},
     "output_type": "execute_result"
    }
   ],
   "source": [
    "sensitivity"
   ]
  },
  {
   "cell_type": "code",
   "execution_count": 36,
   "metadata": {},
   "outputs": [
    {
     "data": {
      "text/plain": [
       "np.float64(0.85)"
      ]
     },
     "execution_count": 36,
     "metadata": {},
     "output_type": "execute_result"
    }
   ],
   "source": [
    "specificity"
   ]
  },
  {
   "cell_type": "code",
   "execution_count": 39,
   "metadata": {},
   "outputs": [
    {
     "data": {
      "image/png": "[encoded data removed]",
      "text/plain": [
       "<Figure size 400x400 with 1 Axes>"
      ]
     },
     "metadata": {},
     "output_type": "display_data"
    }
   ],
   "source": [
    "# Plotting\n",
    "plt.figure(figsize=(4, 4))\n",
    "plt.plot(fpr, tpr, color='darkorange', lw=2, label='ROC curve (area = %0.2f)' % roc_auc)\n",
    "plt.plot([0, 1], [0, 1], color='navy', lw=2, linestyle='--')\n",
    "plt.xlim([0.0, 1.0])\n",
    "plt.ylim([0.0, 1.05])\n",
    "plt.xlabel('Specificity (False Positive Rate)')\n",
    "plt.ylabel('Sensitivity (True Positive Rate)')\n",
    "plt.title('5 biomarkers : ROC and AUC')\n",
    "#plt.legend(loc=\"lower right\")\n",
    "\n",
    "# Add custom text box\n",
    "plt.text(0.56, 0.05, 'AUC = %0.3f\\nSensitivity = %0.3f\\nSpecificity = %0.3f' % (roc_auc, sensitivity, specificity),\n",
    "         bbox=dict(facecolor='white', alpha=0.5))\n",
    "\n",
    "plt.show()\n"
   ]
  },
  {
   "cell_type": "code",
   "execution_count": null,
   "metadata": {},
   "outputs": [],
   "source": []
  }
 ],
 "metadata": {
  "kernelspec": {
   "display_name": "tristan-jkhu",
   "language": "python",
   "name": "python3"
  },
  "language_info": {
   "codemirror_mode": {
    "name": "ipython",
    "version": 3
   },
   "file_extension": ".py",
   "mimetype": "text/x-python",
   "name": "python",
   "nbconvert_exporter": "python",
   "pygments_lexer": "ipython3",
   "version": "3.10.13"
  }
 },
 "nbformat": 4,
 "nbformat_minor": 2
}
